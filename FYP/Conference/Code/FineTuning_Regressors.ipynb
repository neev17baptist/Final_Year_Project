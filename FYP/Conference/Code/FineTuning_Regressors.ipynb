{
 "cells": [
  {
   "cell_type": "markdown",
   "metadata": {},
   "source": [
    "Finetuning of Parameters For Regression Models:"
   ]
  },
  {
   "cell_type": "code",
   "execution_count": 1,
   "metadata": {},
   "outputs": [],
   "source": [
    "import pandas as pd\n",
    "import numpy as np\n",
    "from sklearn.model_selection import train_test_split\n",
    "from sklearn.linear_model import LinearRegression, Ridge, Lasso\n",
    "from sklearn.tree import DecisionTreeRegressor\n",
    "from sklearn.ensemble import RandomForestRegressor, GradientBoostingRegressor\n",
    "from sklearn.svm import SVR\n",
    "from xgboost import XGBRegressor\n",
    "from sklearn.metrics import mean_absolute_error, mean_squared_error, r2_score\n",
    "from sklearn.preprocessing import MinMaxScaler , StandardScaler\n",
    "from sklearn.compose import ColumnTransformer\n",
    "from sklearn.feature_selection import RFE"
   ]
  },
  {
   "cell_type": "code",
   "execution_count": null,
   "metadata": {},
   "outputs": [],
   "source": [
    "# from sklearn.feature_selection import RFE\n",
    "# from sklearn.feature_selection import for "
   ]
  },
  {
   "cell_type": "code",
   "execution_count": 2,
   "metadata": {},
   "outputs": [
    {
     "data": {
      "text/plain": [
       "DATE                     0\n",
       "T2M                      0\n",
       "TMIN                     0\n",
       "TMAX                     0\n",
       "TDEW                     0\n",
       "RH2M                     0\n",
       "RAIN                     0\n",
       "WIND                     0\n",
       "SRAD                  1095\n",
       "Evapotranspiration       0\n",
       "dtype: int64"
      ]
     },
     "execution_count": 2,
     "metadata": {},
     "output_type": "execute_result"
    }
   ],
   "source": [
    "df=pd.read_csv(\"C:/Users/neevb/OneDrive/Desktop/FInal_Year_Project/merged_df_inner_join.csv\")\n",
    "df.isna().sum()"
   ]
  },
  {
   "cell_type": "code",
   "execution_count": 3,
   "metadata": {},
   "outputs": [
    {
     "data": {
      "text/plain": [
       "Index(['DATE', 'T2M', 'TMIN', 'TMAX', 'TDEW', 'RH2M', 'RAIN', 'WIND', 'SRAD',\n",
       "       'Evapotranspiration'],\n",
       "      dtype='object')"
      ]
     },
     "execution_count": 3,
     "metadata": {},
     "output_type": "execute_result"
    }
   ],
   "source": [
    "df.columns"
   ]
  },
  {
   "cell_type": "code",
   "execution_count": 4,
   "metadata": {},
   "outputs": [
    {
     "name": "stdout",
     "output_type": "stream",
     "text": [
      "             DATE   T2M  TMIN  TMAX  TDEW  RH2M  RAIN  WIND       SRAD  \\\n",
      "0      1981-01-01  26.1  21.4  31.3  20.1  71.2   0.1   2.1  19.898643   \n",
      "1      1981-01-02  26.3  22.2  31.4  20.3  71.3   0.1   1.9  19.066983   \n",
      "2      1981-01-03  26.4  22.0  31.3  20.8  72.9   0.1   1.5  19.624448   \n",
      "3      1981-01-04  26.1  21.8  31.4  20.5  73.1   2.7   1.7  19.282846   \n",
      "4      1981-01-05  25.6  21.2  31.1  19.4  71.8   2.4   1.4  19.380238   \n",
      "...           ...   ...   ...   ...   ...   ...   ...   ...        ...   \n",
      "15698  2023-12-27  25.2  20.6  30.0  21.3  79.9   0.0   2.7  21.500000   \n",
      "15699  2023-12-28  26.0  21.6  30.6  22.4  81.4   0.0   2.7  16.900000   \n",
      "15700  2023-12-29  26.5  22.9  30.7  22.9  81.4   0.2   2.7  17.400000   \n",
      "15701  2023-12-30  26.0  23.1  30.0  22.4  81.1   0.2   2.8  14.000000   \n",
      "15702  2023-12-31  25.7  21.8  29.7  21.2  77.1   0.0   2.2  19.600000   \n",
      "\n",
      "       Evapotranspiration  \n",
      "0                  3.1997  \n",
      "1                  2.6746  \n",
      "2                  2.8986  \n",
      "3                  2.8196  \n",
      "4                  2.8684  \n",
      "...                   ...  \n",
      "15698              3.3143  \n",
      "15699              2.9387  \n",
      "15700              2.9730  \n",
      "15701              3.0456  \n",
      "15702              3.1100  \n",
      "\n",
      "[15703 rows x 10 columns]\n"
     ]
    }
   ],
   "source": [
    "df_complete = df.dropna()\n",
    "df_incomplete = df[df['SRAD'].isnull()]\n",
    "\n",
    "# Train a regression model\n",
    "model = LinearRegression()  # You can use other models like RandomForestRegressor or XGBRegressor\n",
    "model.fit(df_complete[['T2M', 'TMIN', 'TMAX', 'TDEW', 'RH2M', 'RAIN', 'WIND','Evapotranspiration']], df_complete['SRAD'])\n",
    "\n",
    "# Predict missing values\n",
    "predicted_values = model.predict(df_incomplete[['T2M', 'TMIN', 'TMAX', 'TDEW', 'RH2M', 'RAIN', 'WIND','Evapotranspiration']])\n",
    "\n",
    "# Impute missing values\n",
    "df.loc[df['SRAD'].isnull(), 'SRAD'] = predicted_values\n",
    "\n",
    "print(df)"
   ]
  },
  {
   "cell_type": "code",
   "execution_count": 5,
   "metadata": {},
   "outputs": [
    {
     "data": {
      "text/plain": [
       "DATE                  0\n",
       "T2M                   0\n",
       "TMIN                  0\n",
       "TMAX                  0\n",
       "TDEW                  0\n",
       "RH2M                  0\n",
       "RAIN                  0\n",
       "WIND                  0\n",
       "SRAD                  0\n",
       "Evapotranspiration    0\n",
       "dtype: int64"
      ]
     },
     "execution_count": 5,
     "metadata": {},
     "output_type": "execute_result"
    }
   ],
   "source": [
    "df.isna().sum()"
   ]
  },
  {
   "cell_type": "code",
   "execution_count": 6,
   "metadata": {},
   "outputs": [
    {
     "data": {
      "text/html": [
       "<div>\n",
       "<style scoped>\n",
       "    .dataframe tbody tr th:only-of-type {\n",
       "        vertical-align: middle;\n",
       "    }\n",
       "\n",
       "    .dataframe tbody tr th {\n",
       "        vertical-align: top;\n",
       "    }\n",
       "\n",
       "    .dataframe thead th {\n",
       "        text-align: right;\n",
       "    }\n",
       "</style>\n",
       "<table border=\"1\" class=\"dataframe\">\n",
       "  <thead>\n",
       "    <tr style=\"text-align: right;\">\n",
       "      <th></th>\n",
       "      <th>T2M</th>\n",
       "      <th>TMIN</th>\n",
       "      <th>TMAX</th>\n",
       "      <th>TDEW</th>\n",
       "      <th>RH2M</th>\n",
       "      <th>RAIN</th>\n",
       "      <th>WIND</th>\n",
       "      <th>SRAD</th>\n",
       "      <th>Evapotranspiration</th>\n",
       "    </tr>\n",
       "  </thead>\n",
       "  <tbody>\n",
       "    <tr>\n",
       "      <th>count</th>\n",
       "      <td>15703.000000</td>\n",
       "      <td>15703.000000</td>\n",
       "      <td>15703.000000</td>\n",
       "      <td>15703.000000</td>\n",
       "      <td>15703.000000</td>\n",
       "      <td>15703.000000</td>\n",
       "      <td>15703.000000</td>\n",
       "      <td>15703.000000</td>\n",
       "      <td>15703.000000</td>\n",
       "    </tr>\n",
       "    <tr>\n",
       "      <th>mean</th>\n",
       "      <td>26.836057</td>\n",
       "      <td>23.868656</td>\n",
       "      <td>30.753079</td>\n",
       "      <td>22.108648</td>\n",
       "      <td>78.169776</td>\n",
       "      <td>5.972311</td>\n",
       "      <td>2.154512</td>\n",
       "      <td>18.393409</td>\n",
       "      <td>2.605724</td>\n",
       "    </tr>\n",
       "    <tr>\n",
       "      <th>std</th>\n",
       "      <td>1.748421</td>\n",
       "      <td>1.748272</td>\n",
       "      <td>3.255566</td>\n",
       "      <td>2.644667</td>\n",
       "      <td>12.504057</td>\n",
       "      <td>10.304929</td>\n",
       "      <td>0.716803</td>\n",
       "      <td>4.225331</td>\n",
       "      <td>0.482845</td>\n",
       "    </tr>\n",
       "    <tr>\n",
       "      <th>min</th>\n",
       "      <td>22.100000</td>\n",
       "      <td>17.000000</td>\n",
       "      <td>24.800000</td>\n",
       "      <td>6.600000</td>\n",
       "      <td>31.100000</td>\n",
       "      <td>0.000000</td>\n",
       "      <td>0.500000</td>\n",
       "      <td>0.500000</td>\n",
       "      <td>1.106600</td>\n",
       "    </tr>\n",
       "    <tr>\n",
       "      <th>25%</th>\n",
       "      <td>25.500000</td>\n",
       "      <td>23.100000</td>\n",
       "      <td>28.100000</td>\n",
       "      <td>21.000000</td>\n",
       "      <td>68.300000</td>\n",
       "      <td>0.000000</td>\n",
       "      <td>1.600000</td>\n",
       "      <td>16.000000</td>\n",
       "      <td>2.266850</td>\n",
       "    </tr>\n",
       "    <tr>\n",
       "      <th>50%</th>\n",
       "      <td>26.300000</td>\n",
       "      <td>23.900000</td>\n",
       "      <td>29.800000</td>\n",
       "      <td>23.100000</td>\n",
       "      <td>82.100000</td>\n",
       "      <td>1.400000</td>\n",
       "      <td>2.100000</td>\n",
       "      <td>19.100000</td>\n",
       "      <td>2.563200</td>\n",
       "    </tr>\n",
       "    <tr>\n",
       "      <th>75%</th>\n",
       "      <td>28.100000</td>\n",
       "      <td>25.000000</td>\n",
       "      <td>33.300000</td>\n",
       "      <td>23.900000</td>\n",
       "      <td>88.900000</td>\n",
       "      <td>7.400000</td>\n",
       "      <td>2.600000</td>\n",
       "      <td>21.300000</td>\n",
       "      <td>2.948400</td>\n",
       "    </tr>\n",
       "    <tr>\n",
       "      <th>max</th>\n",
       "      <td>32.800000</td>\n",
       "      <td>28.400000</td>\n",
       "      <td>39.900000</td>\n",
       "      <td>26.000000</td>\n",
       "      <td>94.900000</td>\n",
       "      <td>176.000000</td>\n",
       "      <td>6.000000</td>\n",
       "      <td>28.700000</td>\n",
       "      <td>4.614500</td>\n",
       "    </tr>\n",
       "  </tbody>\n",
       "</table>\n",
       "</div>"
      ],
      "text/plain": [
       "                T2M          TMIN          TMAX          TDEW          RH2M  \\\n",
       "count  15703.000000  15703.000000  15703.000000  15703.000000  15703.000000   \n",
       "mean      26.836057     23.868656     30.753079     22.108648     78.169776   \n",
       "std        1.748421      1.748272      3.255566      2.644667     12.504057   \n",
       "min       22.100000     17.000000     24.800000      6.600000     31.100000   \n",
       "25%       25.500000     23.100000     28.100000     21.000000     68.300000   \n",
       "50%       26.300000     23.900000     29.800000     23.100000     82.100000   \n",
       "75%       28.100000     25.000000     33.300000     23.900000     88.900000   \n",
       "max       32.800000     28.400000     39.900000     26.000000     94.900000   \n",
       "\n",
       "               RAIN          WIND          SRAD  Evapotranspiration  \n",
       "count  15703.000000  15703.000000  15703.000000        15703.000000  \n",
       "mean       5.972311      2.154512     18.393409            2.605724  \n",
       "std       10.304929      0.716803      4.225331            0.482845  \n",
       "min        0.000000      0.500000      0.500000            1.106600  \n",
       "25%        0.000000      1.600000     16.000000            2.266850  \n",
       "50%        1.400000      2.100000     19.100000            2.563200  \n",
       "75%        7.400000      2.600000     21.300000            2.948400  \n",
       "max      176.000000      6.000000     28.700000            4.614500  "
      ]
     },
     "execution_count": 6,
     "metadata": {},
     "output_type": "execute_result"
    }
   ],
   "source": [
    "df.describe()"
   ]
  },
  {
   "cell_type": "code",
   "execution_count": 7,
   "metadata": {},
   "outputs": [
    {
     "data": {
      "text/plain": [
       "Index(['DATE', 'T2M', 'TMIN', 'TMAX', 'TDEW', 'RH2M', 'RAIN', 'WIND', 'SRAD',\n",
       "       'Evapotranspiration'],\n",
       "      dtype='object')"
      ]
     },
     "execution_count": 7,
     "metadata": {},
     "output_type": "execute_result"
    }
   ],
   "source": [
    "df.columns"
   ]
  },
  {
   "cell_type": "code",
   "execution_count": 8,
   "metadata": {},
   "outputs": [],
   "source": [
    "X = df.drop(['Evapotranspiration','DATE'], axis=1)\n",
    "y = df[\"Evapotranspiration\"]"
   ]
  },
  {
   "cell_type": "code",
   "execution_count": 15,
   "metadata": {},
   "outputs": [],
   "source": [
    "scaler = StandardScaler()\n",
    "X_scaled = scaler.fit_transform(X)\n",
    "X_train, X_test, y_train, y_test =train_test_split(X,y,test_size=0.3,shuffle=False)"
   ]
  },
  {
   "cell_type": "code",
   "execution_count": 16,
   "metadata": {},
   "outputs": [
    {
     "data": {
      "text/plain": [
       "(10992, 8)"
      ]
     },
     "execution_count": 16,
     "metadata": {},
     "output_type": "execute_result"
    }
   ],
   "source": [
    "X_train.shape"
   ]
  },
  {
   "cell_type": "code",
   "execution_count": 17,
   "metadata": {},
   "outputs": [
    {
     "data": {
      "text/plain": [
       "(4711, 8)"
      ]
     },
     "execution_count": 17,
     "metadata": {},
     "output_type": "execute_result"
    }
   ],
   "source": [
    "X_test.shape"
   ]
  },
  {
   "cell_type": "markdown",
   "metadata": {},
   "source": [
    "Linear:"
   ]
  },
  {
   "cell_type": "code",
   "execution_count": 18,
   "metadata": {},
   "outputs": [
    {
     "name": "stdout",
     "output_type": "stream",
     "text": [
      "Mean Squared Error:  0.10608898830657658\n",
      "Mean Absolute Error:  0.2600636677112873\n",
      "R-2 score:  0.5479535557159676\n"
     ]
    }
   ],
   "source": [
    "from sklearn.linear_model import LinearRegression\n",
    "from sklearn.metrics import mean_absolute_error, mean_squared_error, r2_score\n",
    "\n",
    "model1 = LinearRegression()\n",
    "model1.fit(X_train, y_train)\n",
    "y_pred1 = model1.predict(X_test)\n",
    "mae1 = mean_absolute_error(y_test, y_pred1)\n",
    "mse1 = mean_squared_error(y_test, y_pred1)\n",
    "r21 = r2_score(y_test, y_pred1)\n",
    "print(\"Mean Squared Error: \", mse1)\n",
    "print(\"Mean Absolute Error: \", mae1)\n",
    "print(\"R-2 score: \", r21)"
   ]
  },
  {
   "cell_type": "markdown",
   "metadata": {},
   "source": [
    "Ridge:"
   ]
  },
  {
   "cell_type": "code",
   "execution_count": 20,
   "metadata": {},
   "outputs": [
    {
     "name": "stdout",
     "output_type": "stream",
     "text": [
      "Mean Squared Error:  0.10608890522469668\n",
      "Mean Absolute Error:  0.26006345245028534\n",
      "R-2 score:  0.5479539097288486\n"
     ]
    }
   ],
   "source": [
    "model2 = Ridge(alpha=0.1)  # Adjust alpha as needed\n",
    "model2.fit(X_train, y_train)\n",
    "y_pred2 = model2.predict(X_test)\n",
    "mae2=mean_absolute_error(y_test,y_pred2)\n",
    "mse2=mean_squared_error(y_test,y_pred2)\n",
    "r22=r2_score(y_test,y_pred2)\n",
    "print(\"Mean Squared Error: \",mse2)\n",
    "print(\"Mean Absolute Error: \",mae2)\n",
    "print(\"R-2 score: \",r22)"
   ]
  },
  {
   "cell_type": "markdown",
   "metadata": {},
   "source": [
    "Lasso:"
   ]
  },
  {
   "cell_type": "code",
   "execution_count": 21,
   "metadata": {},
   "outputs": [
    {
     "name": "stdout",
     "output_type": "stream",
     "text": [
      "Mean Squared Error:  0.13030623070832195\n",
      "Mean Absolute Error:  0.2894396714357561\n",
      "R-2 score:  0.444763597051852\n"
     ]
    }
   ],
   "source": [
    "model3=Lasso(alpha=1.0)\n",
    "model3.fit(X_train, y_train)\n",
    "y_pred3 = model3.predict(X_test)\n",
    "mae3=mean_absolute_error(y_test,y_pred3)\n",
    "mse3=mean_squared_error(y_test,y_pred3)\n",
    "r23=r2_score(y_test,y_pred3)\n",
    "print(\"Mean Squared Error: \",mse3)\n",
    "print(\"Mean Absolute Error: \",mae3)\n",
    "print(\"R-2 score: \",r23)"
   ]
  },
  {
   "cell_type": "code",
   "execution_count": 25,
   "metadata": {},
   "outputs": [
    {
     "name": "stdout",
     "output_type": "stream",
     "text": [
      "{'max_depth': 7, 'min_samples_leaf': 2, 'min_samples_split': 10}\n",
      "0.6102923323684898\n",
      "Mean Squared Error: 0.09868309396673054\n",
      "Mean Absolute Error: 0.2464137859080303\n",
      "R-squared Score: 0.5795101598132386\n"
     ]
    }
   ],
   "source": [
    "from sklearn.model_selection import GridSearchCV\n",
    "\n",
    "# Define the parameter grid\n",
    "param_grid = {\n",
    "    'max_depth': [3, 5, 7, 10],\n",
    "    'min_samples_split': [2, 5, 10],\n",
    "    'min_samples_leaf': [1, 2, 4]\n",
    "}\n",
    "\n",
    "# Create a Decision Tree Regressor\n",
    "model = DecisionTreeRegressor()\n",
    "\n",
    "# Create a Grid Search object\n",
    "grid_search = GridSearchCV(estimator=model, param_grid=param_grid, cv=5, n_jobs=-1)\n",
    "\n",
    "# Fit the Grid Search to the training data\n",
    "grid_search.fit(X_train, y_train)\n",
    "\n",
    "# Print the best parameters and score\n",
    "print(grid_search.best_params_)\n",
    "print(grid_search.best_score_)\n",
    "\n",
    "# Use the best parameters to train the final model\n",
    "best_model = grid_search.best_estimator_\n",
    "y_pred = best_model.predict(X_test)\n",
    "\n",
    "# Evaluate the final model\n",
    "mae = mean_absolute_error(y_test, y_pred)\n",
    "mse = mean_squared_error(y_test, y_pred)\n",
    "r2 = r2_score(y_test, y_pred)\n",
    "\n",
    "print(\"Mean Squared Error:\", mse)\n",
    "print(\"Mean Absolute Error:\", mae)\n",
    "print(\"R-squared Score:\", r2)"
   ]
  },
  {
   "cell_type": "markdown",
   "metadata": {},
   "source": [
    "Decision Tree:"
   ]
  },
  {
   "cell_type": "code",
   "execution_count": 26,
   "metadata": {},
   "outputs": [
    {
     "name": "stdout",
     "output_type": "stream",
     "text": [
      "Mean Squared Error:  0.09868309396673061\n",
      "Mean Absolute Error:  0.24641378590803034\n",
      "R-2 score:  0.5795101598132384\n"
     ]
    }
   ],
   "source": [
    "model4 = DecisionTreeRegressor(\n",
    "    criterion='squared_error',  # You can also use 'mae'\n",
    "    max_depth=7,  # Adjust the maximum depth of the tree\n",
    "    min_samples_split=10,  # Minimum samples required to split a node\n",
    "    min_samples_leaf=2  # Minimum samples required in a leaf node   \n",
    "\n",
    ")\n",
    "model4.fit(X_train, y_train)\n",
    "y_pred4 = model4.predict(X_test)\n",
    "mae4=mean_absolute_error(y_test,y_pred4)\n",
    "mse4=mean_squared_error(y_test,y_pred4)\n",
    "r24=r2_score(y_test,y_pred4)\n",
    "print(\"Mean Squared Error: \",mse4)\n",
    "print(\"Mean Absolute Error: \",mae4)\n",
    "print(\"R-2 score: \",r24)"
   ]
  },
  {
   "cell_type": "code",
   "execution_count": 36,
   "metadata": {},
   "outputs": [],
   "source": [
    "# from sklearn.model_selection import RandomizedSearchCV\n",
    "# from scipy.stats import randint\n",
    "\n",
    "# # Define the parameter distribution\n",
    "# param_dist = {\n",
    "#     'n_estimators': randint(low=50, high=200),\n",
    "#     'max_depth': randint(low=1, high=10),\n",
    "#     'min_samples_split': randint(low=2, high=10),\n",
    "#     'min_samples_leaf': randint(low=1, high=5)\n",
    "# }\n",
    "\n",
    "# # Create a Random Forest Regressor\n",
    "# rf = RandomForestRegressor()\n",
    "\n",
    "# # Create a Randomized Search object\n",
    "# random_search = RandomizedSearchCV(estimator=rf, param_distributions=param_dist, n_iter=10, cv=5, n_jobs=-1)\n",
    "\n",
    "# # Fit the Randomized Search to the training data\n",
    "# random_search.fit(X_train, y_train)\n",
    "\n",
    "# # Print the best parameters and score\n",
    "# print(random_search.best_params_)\n",
    "# print(random_search.best_score_)"
   ]
  },
  {
   "cell_type": "code",
   "execution_count": 23,
   "metadata": {},
   "outputs": [
    {
     "name": "stdout",
     "output_type": "stream",
     "text": [
      "Mean Squared Error:  0.08710382127934586\n",
      "Mean Absolute Error:  0.23290800150051755\n",
      "R-2 score:  0.6288495788168504\n"
     ]
    }
   ],
   "source": [
    "model5 =RandomForestRegressor(\n",
    "    n_estimators=154,\n",
    "    max_depth=8,\n",
    "    min_samples_split=8,\n",
    "    min_samples_leaf=4\n",
    ")\n",
    "\n",
    "# Train the model on the training data\n",
    "model5.fit(X_train, y_train)\n",
    "\n",
    "# Make predictions on the test data\n",
    "y_pred5 = model5.predict(X_test)\n",
    "\n",
    "# Evaluate model performance\n",
    "mae5 = mean_absolute_error(y_test, y_pred5)\n",
    "mse5 = mean_squared_error(y_test, y_pred5)\n",
    "r25 = r2_score(y_test, y_pred5)\n",
    "\n",
    "# Print evaluation metrics\n",
    "print(\"Mean Squared Error: \", mse5)\n",
    "print(\"Mean Absolute Error: \", mae5)\n",
    "print(\"R-2 score: \", r25)"
   ]
  },
  {
   "cell_type": "code",
   "execution_count": 38,
   "metadata": {},
   "outputs": [],
   "source": [
    "# param_grid = {\n",
    "#     'n_estimators': [100, 200, 300],\n",
    "#     'learning_rate': [0.01, 0.1, 0.2],\n",
    "#     'max_depth': [3, 5, 7],\n",
    "#     'min_samples_split': [2, 5, 10],\n",
    "#     'min_samples_leaf': [1, 2, 4] \n",
    "\n",
    "# }\n",
    "\n",
    "# # Create a Gradient Boosting Regressor\n",
    "# gbm = GradientBoostingRegressor()\n",
    "\n",
    "# # Create a Grid Search object\n",
    "# grid_search = GridSearchCV(estimator=gbm, param_grid=param_grid, cv=5, n_jobs=-1)\n",
    "\n",
    "# # Fit the Grid Search to the training data\n",
    "# grid_search.fit(X_train, y_train)\n",
    "\n",
    "# # Print the best   \n",
    "# # parameters and score\n",
    "# print(grid_search.best_params_)\n",
    "# print(grid_search.best_score_)\n"
   ]
  },
  {
   "cell_type": "code",
   "execution_count": 24,
   "metadata": {},
   "outputs": [
    {
     "name": "stdout",
     "output_type": "stream",
     "text": [
      "Mean Squared Error: 0.08761816643118348\n",
      "Mean Absolute Error: 0.2336101369665707\n",
      "R-squared Score: 0.6266579479913116\n"
     ]
    }
   ],
   "source": [
    "model6 = GradientBoostingRegressor(\n",
    "    n_estimators=300,  # Number of trees in the forest\n",
    "    learning_rate=0.1,  # Learning rate for each tree\n",
    "    max_depth=3,        # Maximum depth of each tree\n",
    "    min_samples_split=10,  # Minimum samples required to split a node\n",
    "    min_samples_leaf=4   # Minimum samples required in a leaf node\n",
    ")\n",
    "\n",
    "# Train the model on the training data\n",
    "model6.fit(X_train, y_train)\n",
    "\n",
    "# Make predictions on the test data\n",
    "y_pred6 = model6.predict(X_test)\n",
    "\n",
    "# Evaluate\n",
    "mae6 = mean_absolute_error(y_test, y_pred6)\n",
    "mse6 = mean_squared_error(y_test, y_pred6)\n",
    "r26 = r2_score(y_test, y_pred6)\n",
    "\n",
    "# Print evaluation metrics\n",
    "print(\"Mean Squared Error:\", mse6)\n",
    "print(\"Mean Absolute Error:\", mae6)\n",
    "print(\"R-squared Score:\", r26)"
   ]
  },
  {
   "cell_type": "code",
   "execution_count": 40,
   "metadata": {},
   "outputs": [],
   "source": [
    "# param_grid = {\n",
    "#     'C': [0.1, 1, 10],\n",
    "#     'kernel': ['linear',\n",
    "#  'poly', 'rbf', 'sigmoid'],\n",
    "#     'gamma': ['scale', 'auto'],\n",
    "#     'epsilon': [0.1, 0.2, 0.3]\n",
    "# }\n",
    "\n",
    "# # Create an SVR model\n",
    "# svr = SVR()\n",
    "\n",
    "# # Create a Grid Search object\n",
    "# grid_search = GridSearchCV(estimator=svr, param_grid=param_grid, cv=5, n_jobs=-1)\n",
    "\n",
    "# # Fit the Grid Search to the training data\n",
    "# grid_search.fit(X_train, y_train)\n",
    "\n",
    "# # Print the best   \n",
    "# #  parameters and score\n",
    "# print(grid_search.best_params_)\n",
    "# print(grid_search.best_score_)"
   ]
  },
  {
   "cell_type": "code",
   "execution_count": 30,
   "metadata": {},
   "outputs": [
    {
     "name": "stdout",
     "output_type": "stream",
     "text": [
      "Mean Squared Error: 0.09268218512316027\n",
      "Mean Absolute Error: 0.24242793970165538\n",
      "R-squared Score: 0.605080103956446\n"
     ]
    }
   ],
   "source": [
    "model7 = SVR(kernel='rbf', C=10.0, epsilon=0.2, gamma='auto')\n",
    "\n",
    "# Train the model on the training data\n",
    "model7.fit(X_train, y_train)\n",
    "\n",
    "# Make predictions on the test data\n",
    "y_pred7 = model7.predict(X_test)\n",
    "\n",
    "# Evaluate model performance\n",
    "mae7 = mean_absolute_error(y_test, y_pred7)\n",
    "mse7 = mean_squared_error(y_test, y_pred7)\n",
    "r27 = r2_score(y_test, y_pred7)\n",
    "\n",
    "# Print evaluation metrics\n",
    "print(\"Mean Squared Error:\", mse7)\n",
    "print(\"Mean Absolute Error:\", mae7)\n",
    "print(\"R-squared Score:\", r27)"
   ]
  },
  {
   "cell_type": "code",
   "execution_count": 42,
   "metadata": {},
   "outputs": [],
   "source": [
    "# param_grid = {\n",
    "#     'max_depth': [3, 5, 7],\n",
    "#     'learning_rate': [0.01, 0.1, 0.2],\n",
    "#     'n_estimators': [50, 100, 200],\n",
    "#     'subsample': [0.8, 0.9, 1.0],\n",
    "#     'colsample_bytree': [0.8, 0.9, 1.0] \n",
    "\n",
    "# }\n",
    "\n",
    "# # Create an XGBoost Regressor\n",
    "# xgb = XGBRegressor()\n",
    "\n",
    "# # Create a Grid Search object\n",
    "# grid_search = GridSearchCV(estimator=xgb, param_grid=param_grid, cv=5, n_jobs=-1)\n",
    "\n",
    "# # Fit the Grid Search to the training data\n",
    "# grid_search.fit(X_train, y_train)\n",
    "\n",
    "# # Print the best   \n",
    "# #  parameters and score\n",
    "# print(grid_search.best_params_)\n",
    "# print(grid_search.best_score_)"
   ]
  },
  {
   "cell_type": "code",
   "execution_count": 31,
   "metadata": {},
   "outputs": [
    {
     "name": "stdout",
     "output_type": "stream",
     "text": [
      "Mean Squared Error: 0.08659315883303896\n",
      "Mean Absolute Error: 0.23196872098032414\n",
      "R-squared Score: 0.6310255175902066\n"
     ]
    }
   ],
   "source": [
    "model8 = XGBRegressor(\n",
    "    n_estimators=100,\n",
    "    learning_rate=0.1,\n",
    "    max_depth=5,\n",
    "    subsample=0.9,\n",
    "    colsample_bytree=1.0\n",
    ")\n",
    "\n",
    "# Train the model on the training data\n",
    "model8.fit(X_train, y_train)\n",
    "\n",
    "# Make predictions on the test data\n",
    "y_pred8 = model8.predict(X_test)\n",
    "\n",
    "# Evaluate   \n",
    "#  model performance\n",
    "mae8 = mean_absolute_error(y_test, y_pred8)\n",
    "mse8 = mean_squared_error(y_test, y_pred8) \n",
    "\n",
    "r28 = r2_score(y_test, y_pred8)\n",
    "\n",
    "# Print evaluation metrics\n",
    "print(\"Mean Squared Error:\", mse8)\n",
    "print(\"Mean Absolute Error:\", mae8)\n",
    "print(\"R-squared Score:\", r28)"
   ]
  },
  {
   "cell_type": "code",
   "execution_count": 32,
   "metadata": {},
   "outputs": [
    {
     "name": "stdout",
     "output_type": "stream",
     "text": [
      "Mean Squared Error: 0.10631208526502085\n",
      "Mean Absolute Error: 0.260482928909368\n",
      "R-squared Score: 0.5470029369156085\n"
     ]
    }
   ],
   "source": [
    "from sklearn.linear_model import ElasticNet\n",
    "from sklearn.metrics import mean_absolute_error, mean_squared_error, r2_score\n",
    "\n",
    "# ... (your code for loading X_train, X_test, y_train, and y_test)\n",
    "\n",
    "# Define the ElasticNet model with hyperparameters\n",
    "model9 = ElasticNet(alpha=0.0001, l1_ratio=0.1)  # Adjust alpha and l1_ratio as needed\n",
    "\n",
    "# Train the model on the training data\n",
    "model9.fit(X_train, y_train)\n",
    "\n",
    "# Make predictions on the test data\n",
    "y_pred9 = model9.predict(X_test)\n",
    "\n",
    "# Evaluate model performance\n",
    "mae9 = mean_absolute_error(y_test, y_pred9)\n",
    "mse9 = mean_squared_error(y_test, y_pred9)\n",
    "r29 = r2_score(y_test, y_pred9)\n",
    "\n",
    "# Print evaluation metrics\n",
    "print(\"Mean Squared Error:\", mse9)\n",
    "print(\"Mean Absolute Error:\", mae9)\n",
    "print(\"R-squared Score:\", r29)"
   ]
  },
  {
   "cell_type": "code",
   "execution_count": 45,
   "metadata": {},
   "outputs": [],
   "source": [
    "# param_grid = {\n",
    "#     'alpha': [0.0001, 0.01, 0.1, 1.0, 10.0],  # Explore a wider range of alpha values\n",
    "#     'l1_ratio': [0.1, 0.3, 0.5, 0.7, 0.9]  # Explore a balanced range of l1_ratio values\n",
    "# }\n",
    "\n",
    "# # Create the ElasticNet model\n",
    "# elastic_net = ElasticNet(random_state=42)  # Set random_state for reproducibility\n",
    "\n",
    "# # Perform Grid Search to find the best hyperparameters\n",
    "# grid_search = GridSearchCV(elastic_net, param_grid, cv=5, scoring=\"neg_mean_squared_error\")\n",
    "# grid_search.fit(X_train,y_train)\n",
    "\n",
    "# # Extract the best parameters and model\n",
    "# best_params = grid_search.best_params_\n",
    "# best_model = grid_search.best_estimator_\n",
    "# print(\"Best Hyperparameters:\", best_params)"
   ]
  },
  {
   "cell_type": "code",
   "execution_count": 46,
   "metadata": {},
   "outputs": [
    {
     "name": "stdout",
     "output_type": "stream",
     "text": [
      "Mean Squared Error: 0.07696941638247498\n",
      "Mean Absolute Error: 0.2175026825678643\n",
      "R-squared Score: 0.6786051748180744\n"
     ]
    }
   ],
   "source": [
    "from sklearn.neural_network import MLPRegressor\n",
    "\n",
    "model10 = MLPRegressor(hidden_layer_sizes=(100,), activation='relu', solver='adam', alpha=0.01)\n",
    "\n",
    "# Train the model on the training data\n",
    "model10.fit(X_train, y_train)\n",
    "\n",
    "# Make predictions on the test data\n",
    "y_pred10 = model10.predict(X_test)\n",
    "\n",
    "# Evaluate model performance\n",
    "mae10 = mean_absolute_error(y_test, y_pred10)\n",
    "mse10 = mean_squared_error(y_test, y_pred10)\n",
    "r210 = r2_score(y_test, y_pred10)\n",
    "\n",
    "# Print evaluation metrics\n",
    "print(\"Mean Squared Error:\", mse10)\n",
    "print(\"Mean Absolute Error:\", mae10)\n",
    "print(\"R-squared Score:\", r210)"
   ]
  },
  {
   "cell_type": "code",
   "execution_count": 47,
   "metadata": {},
   "outputs": [],
   "source": [
    "# param_grid = {\n",
    "#     'hidden_layer_sizes': [(50,), (100,)],\n",
    "#     'activation': ['relu'],  # Experiment with other activations\n",
    "#     'solver': ['adam'],  # Consider other solvers (sgd, lbfgs)\n",
    "#     'alpha': [0.001, 0.01],\n",
    "#     'learning_rate_init': [0.001, 0.01]\n",
    "# }\n",
    "\n",
    "# # Create the MLPRegressor model\n",
    "# mlp = MLPRegressor(random_state=42)\n",
    "\n",
    "# # Early stopping\n",
    "# early_stopping = EarlyStopping(monitor='val_loss', patience=5)\n",
    "\n",
    "# # Perform Grid Search with early stopping\n",
    "# grid_search = GridSearchCV(mlp, param_grid, cv=5, scoring='neg_mean_squared_error',\n",
    "#                            verbose=1,estimator_params={'early_stopping': early_stopping})\n",
    "# grid_search.fit(X_train, y_train)\n",
    "\n",
    "# best_model = grid_search.best_estimator_"
   ]
  },
  {
   "cell_type": "code",
   "execution_count": 48,
   "metadata": {},
   "outputs": [
    {
     "name": "stderr",
     "output_type": "stream",
     "text": [
      "c:\\Users\\neevb\\anaconda3\\envs\\evotra\\Lib\\site-packages\\sklearn\\experimental\\enable_hist_gradient_boosting.py:16: UserWarning: Since version 1.0, it is not needed to import enable_hist_gradient_boosting anymore. HistGradientBoostingClassifier and HistGradientBoostingRegressor are now stable and can be normally imported from sklearn.ensemble.\n",
      "  warnings.warn(\n"
     ]
    },
    {
     "name": "stdout",
     "output_type": "stream",
     "text": [
      "Mean Squared Error: 0.07834378669371458\n",
      "Mean Absolute Error: 0.21848239693302082\n",
      "R-squared Score: 0.6728663303954907\n"
     ]
    }
   ],
   "source": [
    "from sklearn.experimental import enable_hist_gradient_boosting\n",
    "from sklearn.ensemble import HistGradientBoostingRegressor\n",
    "from sklearn.metrics import mean_absolute_error, mean_squared_error, r2_score\n",
    "\n",
    "# ... (your code for loading X_train, X_test, y_train, and y_test)\n",
    "\n",
    "# Define the HistGradientBoostingRegressor model with hyperparameters\n",
    "model = HistGradientBoostingRegressor(max_depth=5, learning_rate=0.1, max_iter=100)\n",
    "\n",
    "# Train the model on the training data\n",
    "model.fit(X_train, y_train)\n",
    "\n",
    "# Make predictions on the test data\n",
    "y_pred = model.predict(X_test)\n",
    "\n",
    "# Evaluate model performance\n",
    "mae = mean_absolute_error(y_test, y_pred)\n",
    "mse = mean_squared_error(y_test, y_pred)\n",
    "r2 = r2_score(y_test, y_pred)\n",
    "\n",
    "# Print evaluation metrics\n",
    "print(\"Mean Squared Error:\", mse)\n",
    "print(\"Mean Absolute Error:\", mae)\n",
    "print(\"R-squared Score:\", r2) "
   ]
  },
  {
   "cell_type": "code",
   "execution_count": 49,
   "metadata": {},
   "outputs": [],
   "source": [
    "# param_grid = {\n",
    "#     'max_depth': [3, 5, 7],\n",
    "#     'learning_rate': [0.01, 0.1, 0.2],\n",
    "#     'max_iter': [100, 200, 300],\n",
    "# }\n",
    "\n",
    "# # Create a HistGradientBoostingRegressor\n",
    "# model = HistGradientBoostingRegressor()\n",
    "\n",
    "# # Create a Grid Search object\n",
    "# grid_search = GridSearchCV(model, param_grid, cv=5, n_jobs=-1)\n",
    "\n",
    "# # Fit the Grid Search to the training data\n",
    "# grid_search.fit(X_train, y_train)\n",
    "\n",
    "# # Print the best parameters and score\n",
    "# print(grid_search.best_params_)"
   ]
  }
 ],
 "metadata": {
  "kernelspec": {
   "display_name": "evotra",
   "language": "python",
   "name": "python3"
  },
  "language_info": {
   "codemirror_mode": {
    "name": "ipython",
    "version": 3
   },
   "file_extension": ".py",
   "mimetype": "text/x-python",
   "name": "python",
   "nbconvert_exporter": "python",
   "pygments_lexer": "ipython3",
   "version": "3.11.9"
  }
 },
 "nbformat": 4,
 "nbformat_minor": 2
}
